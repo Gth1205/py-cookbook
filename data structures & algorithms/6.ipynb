{
 "cells": [
  {
   "cell_type": "markdown",
   "metadata": {},
   "source": [
    "### Mapping Keys to Multiple Values in a Dictionary ###\n",
    "\n",
    "#### Problem: Make a dictionary that maps keys to more than one value\n",
    "\n",
    "#### Solution:\n",
    "> A dictionary is a mapping where each key is mapped to a single value.\n",
    "\n",
    "To map keys to multiple values, we need to store the values in another list. \n",
    "- Example: "
   ]
  },
  {
   "cell_type": "code",
   "execution_count": 2,
   "metadata": {},
   "outputs": [],
   "source": [
    "d = {\n",
    "    'a' : [1, 2, 3],\n",
    "    'b' : [4, 5]\n",
    "}\n",
    "\n",
    "e = {\n",
    "    'a' : {1, 2, 3},\n",
    "    'b' : {4, 5}\n",
    "}"
   ]
  },
  {
   "cell_type": "markdown",
   "metadata": {},
   "source": [
    "__NOTE__\n",
    "- Use a list when we want the insertion order of the items. \n",
    "- Use a set if we want to eliminate duplicates.\n",
    "\n",
    "#### Construct dictionaries\n",
    "- Use the `defaultdict` in the `collections` module. \n",
    "A feature of the `defaultdict` is that it automatically initializes the first value, so the focus is on adding items. \n",
    "\n",
    "- For example:"
   ]
  },
  {
   "cell_type": "code",
   "execution_count": 4,
   "metadata": {},
   "outputs": [],
   "source": [
    "from collections import defaultdict\n",
    "\n",
    "#as a list\n",
    "d = defaultdict(list)\n",
    "d['a'].append(1)\n",
    "d['a'].append(2)\n",
    "d['b'].append(4)\n",
    "\n",
    "#as a set\n",
    "d1 = defaultdict(set)\n",
    "d1['a'].add(1)\n",
    "d1['a'].add(2)\n",
    "d1['b'].add(4)"
   ]
  },
  {
   "cell_type": "markdown",
   "metadata": {},
   "source": [
    "`defaultdict` will automatically create dictionary entries for keys that can be accessed later. \n",
    "- This can be avoided by using `setdefault()`.\n",
    "- Example:"
   ]
  },
  {
   "cell_type": "code",
   "execution_count": 5,
   "metadata": {},
   "outputs": [],
   "source": [
    "dnew ={} # a regular dictionary\n",
    "\n",
    "d.setdefault('a', []).append(1)\n",
    "\n",
    "d.setdefault('a', []).append(2)\n",
    "\n",
    "d.setdefault('b', []).append(4)"
   ]
  },
  {
   "cell_type": "markdown",
   "metadata": {},
   "source": [
    "- Using the `defualtdict` leads to having cleander code!"
   ]
  },
  {
   "cell_type": "code",
   "execution_count": null,
   "metadata": {},
   "outputs": [],
   "source": [
    "d = defaultdict(list)\n",
    "for key, value in pairs:\n",
    "    d[key].append(value)"
   ]
  }
 ],
 "metadata": {
  "kernelspec": {
   "display_name": "Python 3",
   "language": "python",
   "name": "python3"
  },
  "language_info": {
   "codemirror_mode": {
    "name": "ipython",
    "version": 3
   },
   "file_extension": ".py",
   "mimetype": "text/x-python",
   "name": "python",
   "nbconvert_exporter": "python",
   "pygments_lexer": "ipython3",
   "version": "3.7.7"
  }
 },
 "nbformat": 4,
 "nbformat_minor": 4
}
